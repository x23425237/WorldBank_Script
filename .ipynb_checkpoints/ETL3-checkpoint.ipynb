{
 "cells": [
  {
   "cell_type": "code",
   "execution_count": 18,
   "id": "2eaf1d9a-4519-42ea-9304-25f14079fd67",
   "metadata": {},
   "outputs": [
    {
     "name": "stdout",
     "output_type": "stream",
     "text": [
      " loan_data Data loaded successfully!\n"
     ]
    }
   ],
   "source": [
    "import psycopg2\n",
    "\n",
    "# Connect to your PostgreSQL database\n",
    "conn = psycopg2.connect(\n",
    "    dbname=\"worldbank\", \n",
    "    user=\"postgres\", \n",
    "    password=\"dap\", \n",
    "    host=\"localhost\", \n",
    "    port=\"5432\"\n",
    ")\n",
    "cursor = conn.cursor()\n",
    "\n",
    "# Prepare the COPY SQL command\n",
    "copy_sql = \"\"\"\n",
    "    COPY loan_data (\n",
    "        end_of_period, loan_number, region, country_economy_code, country_economy, \n",
    "        borrower, guarantor_country_economy_code, guarantor, loan_type, loan_status, \n",
    "        interest_rate, currency_of_commitment, project_id, project_name, \n",
    "        original_principal_amount_usd, cancelled_amount_usd, undisbursed_amount_usd, \n",
    "        disbursed_amount_usd, repaid_to_ibrd_usd, due_to_ibrd_usd, \n",
    "        exchange_adjustment_usd, borrowers_obligation_usd, sold_3rd_party_usd, \n",
    "        repaid_3rd_party_usd, due_3rd_party_usd, loans_held_usd, \n",
    "        first_repayment_date, last_repayment_date, agreement_signing_date, \n",
    "        board_approval_date, effective_date, closed_date, last_disbursement_date\n",
    "    ) \n",
    "    FROM stdin WITH CSV HEADER DELIMITER as ','\n",
    "\"\"\"\n",
    "\n",
    "# Open the CSV file for reading\n",
    "with open('C:/Users/prana/Documents/NCI/PythonWorkSpace/WorldBank/Data/data_oct2024.csv', 'r') as f:\n",
    "    # Execute the COPY command\n",
    "    cursor.copy_expert(sql=copy_sql, file=f)\n",
    "\n",
    "print(\" loan_data Data loaded successfully!\")\n"
   ]
  },
  {
   "cell_type": "code",
   "execution_count": 19,
   "id": "4a1b21b8-8bcb-4d69-b6e4-ce5b7927c6e4",
   "metadata": {},
   "outputs": [
    {
     "name": "stdout",
     "output_type": "stream",
     "text": [
      " world_eco_indicator Data loaded successfully!\n"
     ]
    }
   ],
   "source": [
    "# load local csv into \n",
    "\n",
    "# Prepare the COPY SQL command\n",
    "copy_sql_worldbank = \"\"\"\n",
    "    COPY world_eco_indicator (\n",
    "        Country_Name, Country_Code, Region, IncomeGroup, Year, \n",
    "        Birth_rate_crude, Death_rate_crude, Electric_power_consumption, \n",
    "        GDP, GDP_per_capita, Individuals_using_Internet, \n",
    "        Infant_mortality_rate, Life_expectancy_at_birth, \n",
    "        Population_density, Unemployment_rate\n",
    "    ) \n",
    "    FROM stdin WITH CSV HEADER DELIMITER as ','\n",
    "\"\"\"\n",
    "\n",
    "# Open the CSV file for reading\n",
    "with open('C:/Users/prana/Documents/NCI/PythonWorkSpace/WorldBank/Data/WorldBank.csv', 'r') as f:\n",
    "    # Execute the COPY command\n",
    "    cursor.copy_expert(sql=copy_sql_worldbank, file=f)\n",
    "\n",
    "# Commit the transaction and close the connection\n",
    "conn.commit()\n",
    "cursor.close()\n",
    "conn.close()\n",
    "\n",
    "print(\" world_eco_indicator Data loaded successfully!\")\n",
    "\n",
    "\n",
    "\n",
    "\n",
    "\n"
   ]
  },
  {
   "cell_type": "code",
   "execution_count": null,
   "id": "1df33a0d-da71-43ef-b6ee-f05f905b9d38",
   "metadata": {},
   "outputs": [],
   "source": [
    "\n"
   ]
  }
 ],
 "metadata": {
  "kernelspec": {
   "display_name": "Python 3 (ipykernel)",
   "language": "python",
   "name": "python3"
  },
  "language_info": {
   "codemirror_mode": {
    "name": "ipython",
    "version": 3
   },
   "file_extension": ".py",
   "mimetype": "text/x-python",
   "name": "python",
   "nbconvert_exporter": "python",
   "pygments_lexer": "ipython3",
   "version": "3.9.12"
  }
 },
 "nbformat": 4,
 "nbformat_minor": 5
}
