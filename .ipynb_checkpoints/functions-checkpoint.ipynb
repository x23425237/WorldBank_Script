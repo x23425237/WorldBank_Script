{
 "cells": [
  {
   "cell_type": "code",
   "execution_count": 1,
   "id": "5607cee8-c293-40c8-a853-999ae3ae9b0c",
   "metadata": {},
   "outputs": [
    {
     "name": "stderr",
     "output_type": "stream",
     "text": [
      "C:\\Users\\prana\\anaconda3\\lib\\site-packages\\pandas\\core\\computation\\expressions.py:21: UserWarning: Pandas requires version '2.8.4' or newer of 'numexpr' (version '2.8.1' currently installed).\n",
      "  from pandas.core.computation.check import NUMEXPR_INSTALLED\n",
      "C:\\Users\\prana\\anaconda3\\lib\\site-packages\\pandas\\core\\arrays\\masked.py:60: UserWarning: Pandas requires version '1.3.6' or newer of 'bottleneck' (version '1.3.4' currently installed).\n",
      "  from pandas.core import (\n"
     ]
    }
   ],
   "source": [
    "import pandas as pd\n",
    "import seaborn as sns\n",
    "import matplotlib.pyplot as plt"
   ]
  },
  {
   "cell_type": "code",
   "execution_count": 2,
   "id": "baf2d882-251b-4565-b933-f3ad44c2cfb8",
   "metadata": {},
   "outputs": [],
   "source": [
    "def read_csv_to_dataframe(file_path):\n",
    "    try:\n",
    "        df = pd.read_csv(file_path)\n",
    "        return df\n",
    "    except Exception as e:\n",
    "        print(f\"Error reading the CSV file: {e}\")\n",
    "        return None\n",
    "    \n",
    "    "
   ]
  },
  {
   "cell_type": "code",
   "execution_count": 3,
   "id": "2f15aa54-cdc3-4988-9a3e-fa7a82fcaa65",
   "metadata": {},
   "outputs": [],
   "source": [
    "# function to print dtypes, count unique and missing values.\n",
    "def show_missing(df):\n",
    "    \"\"\"Return a Pandas dataframe describing the contents of a source dataframe including missing values.\"\"\"\n",
    "    \n",
    "    variables = []\n",
    "    dtypes = []\n",
    "    count = []\n",
    "    unique = []\n",
    "    missing = []\n",
    "    pc_missing = []\n",
    "    \n",
    "    for item in df.columns:\n",
    "        variables.append(item)\n",
    "        dtypes.append(df[item].dtype)\n",
    "        count.append(len(df[item]))\n",
    "        unique.append(len(df[item].unique()))\n",
    "        missing.append(df[item].isna().sum())\n",
    "        pc_missing.append(round((df[item].isna().sum() / len(df[item])) * 100, 2))\n",
    "\n",
    "    output = pd.DataFrame({\n",
    "        'variable': variables, \n",
    "        'dtype': dtypes,\n",
    "        'count': count,\n",
    "        'unique': unique,\n",
    "        'missing': missing, \n",
    "        'pc_missing': pc_missing\n",
    "    })    \n",
    "        \n",
    "    return output"
   ]
  },
  {
   "cell_type": "code",
   "execution_count": 4,
   "id": "1573b9f3-f1f2-4e04-9c2d-14b7446b2c4e",
   "metadata": {
    "tags": []
   },
   "outputs": [],
   "source": [
    "def dataset_info(df):\n",
    "    duplicate_rows_df = df[df.duplicated()]\n",
    "    print(\"number of duplicate rows: \", duplicate_rows_df.shape)\n",
    "    \n",
    "    \n",
    "    rowCount_df=df.count()\n",
    "    print(f\"number of rows in each column\\n {rowCount_df}\")"
   ]
  },
  {
   "cell_type": "code",
   "execution_count": 5,
   "id": "930ca57c-d984-4b57-85ae-7c0110a4bcc0",
   "metadata": {},
   "outputs": [],
   "source": [
    "# Calculating a Correlation \n",
    "def get_corrs_matrix(df):\n",
    "    mat_corr=df.corr().round(2)\n",
    "    return mat_corr\n",
    "    \n",
    "\n",
    "## Calculate correlation >0 or positive correlation\n",
    "def get_corrs_posNev(df,valu):\n",
    "    print(\"Print only positive correlation\")\n",
    "    pos_corr=df.corr().round(2)\n",
    "    pos_corr = pos_corr.unstack()\n",
    "    pos_corr = pos_corr[pos_corr > valu]\n",
    "    return pos_corr \n",
    "\n",
    "\n",
    "\n",
    "\n",
    "## function to display correlation heatmap\n",
    "\n",
    "def heat_map_corr(df):\n",
    "# Increase the size of the heatmap.\n",
    "    plt.figure(figsize=(16, 6))\n",
    "# Store heatmap object in a variable to easily access it when you want to include more features (such as title).\n",
    "# Set the range of values to be displayed on the colormap from -1 to 1, and set the annotation to True to display the correlation values on the heatmap.\n",
    "    heatmap = sns.heatmap(df.corr(), vmin=-1, vmax=1, annot=True)\n",
    "# Give a title to the heatmap. Pad defines the distance of the title from the top of the heatmap.\n",
    "    heatmap.set_title('Correlation Heatmap', fontdict={'fontsize':12}, pad=12)\n",
    "    return heatmap \n",
    "## function to display distribution plot\n",
    "\n",
    "\n"
   ]
  },
  {
   "cell_type": "code",
   "execution_count": 6,
   "id": "197a041e-fbb8-4682-bb70-fa6e0e6ecfcf",
   "metadata": {},
   "outputs": [],
   "source": [
    "# find missing values \n",
    "def find_missing_values(df):\n",
    "    total = df.shape[0]  # Total number of rows\n",
    "    missing = df.isnull().sum()  # Count of missing values\n",
    "    percentage = round((missing / total) * 100,2)  # Calculate percentage\n",
    "    return percentage[percentage > 30.00]  # Return only columns with missing values >30%\n",
    "\n"
   ]
  },
  {
   "cell_type": "code",
   "execution_count": 7,
   "id": "e9a6e230-4059-45d9-8fcb-599505d4709a",
   "metadata": {},
   "outputs": [],
   "source": [
    "# extract all numerial columns \n",
    "\n",
    "def get_numericalFields(df):\n",
    "    numerical_df = df.select_dtypes(include=['number'])\n",
    "    return numerical_df"
   ]
  },
  {
   "cell_type": "code",
   "execution_count": 15,
   "id": "723c507f-7883-46a3-8a95-0780199dedba",
   "metadata": {},
   "outputs": [],
   "source": [
    "# extract all categorical columns \n",
    "\n",
    "def getCatagorical_Fields(df):\n",
    "    categorical_df = df.select_dtypes(include=['category', 'object'])\n",
    "    return categorical_df\n"
   ]
  },
  {
   "cell_type": "code",
   "execution_count": 9,
   "id": "eb91c6ff-2db7-4f03-b387-87923eb391b9",
   "metadata": {},
   "outputs": [],
   "source": [
    "# function to encode multiple columns \n",
    "def label_encode(df, columns):\n",
    "\n",
    "    # Initialize the LabelEncoder\n",
    "    le = LabelEncoder()\n",
    "    \n",
    "    # Apply label encoding to each specified column\n",
    "    for column in columns:\n",
    "        df[column] = le.fit_transform(df[column])\n",
    "    \n",
    "    return df"
   ]
  },
  {
   "cell_type": "code",
   "execution_count": 10,
   "id": "4403f236-e412-49a4-8395-4189f824d492",
   "metadata": {},
   "outputs": [],
   "source": [
    "# print array of distinct values of given column \n",
    "\n",
    "def print_distinct(df,column):\n",
    "    # Get distinct values \n",
    "    \n",
    "    return df[column].unique()"
   ]
  },
  {
   "cell_type": "code",
   "execution_count": 14,
   "id": "db0f45b7-ab2e-421b-9e67-5f8eb9b72602",
   "metadata": {},
   "outputs": [],
   "source": [
    "# scrap data from web - function to load url\n",
    "import urllib.request\n",
    "from bs4 import BeautifulSoup\n",
    "\n",
    "def fetch_and_parse(url):\n",
    "    try:\n",
    "        web_page = urllib.request.urlopen(url)\n",
    "\n",
    "       # page_content = web_page.read().decode('utf-8')\n",
    "\n",
    "        parsed_data = BeautifulSoup(web_page, \"html.parser\")\n",
    "        \n",
    "        return parsed_data\n",
    "    \n",
    "    except Exception as e:\n",
    "        print(f\"An error occurred: {e}\")\n",
    "        return None\n",
    "\n",
    "# Example usage\n",
    "url = 'https://en.wikipedia.org/wiki/World_Happiness_Report'\n",
    "parsed_data = fetch_and_parse(url)\n",
    "\n",
    "#print(parsed_data.title.string)"
   ]
  },
  {
   "cell_type": "code",
   "execution_count": 13,
   "id": "e0ef61cd-e15c-437c-b652-08fb99b0f011",
   "metadata": {},
   "outputs": [],
   "source": [
    "# Step 3: Custom Exception class\n",
    "class CustomFileException(Exception):\n",
    "    def __init__(self, message):\n",
    "        self.message = message\n"
   ]
  },
  {
   "cell_type": "code",
   "execution_count": null,
   "id": "34eef445-9d8f-4061-94e2-ffd174b09227",
   "metadata": {},
   "outputs": [],
   "source": [
    "# create a re-usable function for count plot \n",
    "\n",
    "\n",
    "\n",
    "def plot_count(data, x, hue, title=\"Count Plot\", xlabel=\"X-axis\", ylabel=\"Count\", figsize=(12, 8), legend_ncol=3):\n",
    "    \"\"\"\n",
    "    Creates a count plot for the specified data.\n",
    "\n",
    "    Parameters:\n",
    "    - data: DataFrame containing the data to plot.\n",
    "    - x: Column name for the x-axis.\n",
    "    - hue: Column name for the hue (categorical variable).\n",
    "    - title: Title of the plot.\n",
    "    - xlabel: Label for the x-axis.\n",
    "    - ylabel: Label for the y-axis.\n",
    "    - figsize: Size of the figure (default is (12, 8)).\n",
    "    - legend_ncol: Number of columns in the legend (default is 3).\n",
    "    \"\"\"\n",
    "    plt.figure(figsize=figsize)\n",
    "    \n",
    "    # Create the count plot\n",
    "    sns.countplot(x=x, hue=hue, data=data)\n",
    "\n",
    "    # Move the legend to the bottom and set it to horizontal\n",
    "    plt.legend(title=hue, loc='upper center', bbox_to_anchor=(0.5, -0.1), ncol=legend_ncol)\n",
    "\n",
    "    # Rotate x labels for better visibility if needed\n",
    "    plt.xticks(rotation=45)\n",
    "    \n",
    "    # Adjust layout to make room for the legend\n",
    "    plt.tight_layout()\n",
    "    \n",
    "    # Set titles and labels\n",
    "    plt.title(title)\n",
    "    plt.xlabel(xlabel)\n",
    "    plt.ylabel(ylabel)\n",
    "    \n",
    "    plt.show()\n",
    "\n",
    "# Example usage:\n",
    "# plot_count(df, x=\"Medication\", hue=\"Blood Type\", title=\"Distribution of Medications by Blood Type\")\n"
   ]
  }
 ],
 "metadata": {
  "kernelspec": {
   "display_name": "Python 3 (ipykernel)",
   "language": "python",
   "name": "python3"
  },
  "language_info": {
   "codemirror_mode": {
    "name": "ipython",
    "version": 3
   },
   "file_extension": ".py",
   "mimetype": "text/x-python",
   "name": "python",
   "nbconvert_exporter": "python",
   "pygments_lexer": "ipython3",
   "version": "3.9.12"
  }
 },
 "nbformat": 4,
 "nbformat_minor": 5
}
